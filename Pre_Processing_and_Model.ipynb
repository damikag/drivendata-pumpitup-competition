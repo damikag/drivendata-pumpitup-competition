{
  "nbformat": 4,
  "nbformat_minor": 0,
  "metadata": {
    "colab": {
      "name": "Pre-Processing and Model.ipynb",
      "provenance": [],
      "collapsed_sections": [],
      "authorship_tag": "ABX9TyPgzwrflVHWbBwTMd0QspNl",
      "include_colab_link": true
    },
    "kernelspec": {
      "display_name": "Python 3",
      "name": "python3"
    },
    "language_info": {
      "name": "python"
    }
  },
  "cells": [
    {
      "cell_type": "markdown",
      "metadata": {
        "id": "view-in-github",
        "colab_type": "text"
      },
      "source": [
        "<a href=\"https://colab.research.google.com/github/damikag/drivendata-pumpitup-competition/blob/main/Pre_Processing_and_Model.ipynb\" target=\"_parent\"><img src=\"https://colab.research.google.com/assets/colab-badge.svg\" alt=\"Open In Colab\"/></a>"
      ]
    },
    {
      "cell_type": "markdown",
      "metadata": {
        "id": "3bjCVRmsDH_9"
      },
      "source": [
        "# [Pump it Up: Data Mining the Water Table](https://www.drivendata.org/competitions/7/pump-it-up-data-mining-the-water-table/)\n",
        "\n",
        "> HOSTED BY DRIVENDATA\n",
        "\n",
        "\n",
        "---"
      ]
    },
    {
      "cell_type": "code",
      "metadata": {
        "colab": {
          "base_uri": "https://localhost:8080/"
        },
        "id": "rFZIQhMtNRZj",
        "outputId": "8e53489f-4bd3-4826-e474-d4fe52a8b6de"
      },
      "source": [
        "  from google.colab import drive\n",
        "drive.mount('/content/drive')\n",
        "\n",
        "!cp -a 'drive/My Drive/UNI/Semester 7/Machine Learning/Assignments/DrivenData/inputs' .\n",
        "!ls 'drive/My Drive/UNI/Semester 7/Machine Learning/Assignments/DrivenData/inputs'"
      ],
      "execution_count": 1,
      "outputs": [
        {
          "output_type": "stream",
          "name": "stdout",
          "text": [
            "Mounted at /content/drive\n",
            "'Test set values.csv'  'Train set labels.csv'  'Train set values.csv'\n"
          ]
        }
      ]
    },
    {
      "cell_type": "code",
      "metadata": {
        "id": "yowFuBxtPUWV"
      },
      "source": [
        "import pandas as pd\n",
        "import numpy as np\n",
        "\n",
        "import matplotlib.pyplot as plt\n",
        "import seaborn as sns\n",
        "\n",
        "plt.style.use(\"seaborn-whitegrid\")\n",
        "\n",
        "from sklearn.model_selection import train_test_split\n",
        "from sklearn.ensemble import RandomForestClassifier\n",
        "from sklearn.metrics import accuracy_score, confusion_matrix, classification_report\n",
        "from sklearn.preprocessing import LabelEncoder\n",
        "from sklearn.preprocessing import OneHotEncoder\n",
        "from sklearn.cluster import KMeans\n",
        "from sklearn.impute import SimpleImputer\n",
        "\n",
        "import warnings; warnings.simplefilter('ignore')"
      ],
      "execution_count": 2,
      "outputs": []
    },
    {
      "cell_type": "markdown",
      "metadata": {
        "id": "hcbVafa70J7F"
      },
      "source": [
        "# Data Pre-Processing\n"
      ]
    },
    {
      "cell_type": "code",
      "metadata": {
        "id": "x88v4psOPyO3"
      },
      "source": [
        "df_train_set_labels = pd.read_csv('inputs/Train set labels.csv')\n",
        "df_train_set_values = pd.read_csv('inputs/Train set values.csv')\n",
        "df_test = pd.read_csv('inputs/Test set values.csv')"
      ],
      "execution_count": 3,
      "outputs": []
    },
    {
      "cell_type": "code",
      "metadata": {
        "id": "jQbV3kSfgGxZ"
      },
      "source": [
        "df_train = df_train_set_values.merge(df_train_set_labels,on='id',how='left')\n",
        "df_combined = pd.concat([df_train_set_values,df_test])"
      ],
      "execution_count": 4,
      "outputs": []
    },
    {
      "cell_type": "code",
      "metadata": {
        "id": "L_XxwC6Jrp5H"
      },
      "source": [
        "df_features = pd.DataFrame(df_train[['id', 'amount_tsh', 'population', 'gps_height', 'latitude', 'longitude']])\n",
        "df_features = df_features.merge(df_train_set_labels,on='id',how='left')"
      ],
      "execution_count": 5,
      "outputs": []
    },
    {
      "cell_type": "markdown",
      "metadata": {
        "id": "PClsBPjb3HId"
      },
      "source": [
        "### Outlier Handling\n",
        "\n",
        "Latitudes and Longitudes"
      ]
    },
    {
      "cell_type": "code",
      "metadata": {
        "id": "jYRIzxjV3Vy_"
      },
      "source": [
        "# Longitudes\n",
        "df_train['longitude'] = df_train['longitude'].replace(0,np.nan)\n",
        "df_train['avglongitude'] = df_train.groupby('region')['longitude'].transform('mean')\n",
        "df_train['longitude'] = df_train['longitude'].fillna(df_train[\"avglongitude\"])\n",
        "df_features['longitude'] = df_train['longitude']\n",
        "\n",
        "# Latitudes\n",
        "df_train['latitude'] = df_train['latitude'].replace(0,np.nan)\n",
        "df_train['avglatitude'] = df_train.groupby('region')['latitude'].transform('mean')\n",
        "df_train['latitude'] = df_train['latitude'].fillna(df_train[\"avglatitude\"])\n",
        "df_features['latitude'] = df_train['latitude']"
      ],
      "execution_count": 6,
      "outputs": []
    },
    {
      "cell_type": "markdown",
      "metadata": {
        "id": "oJiDfThk5o2S"
      },
      "source": [
        "\n",
        "Amount_tsh, Population, and GPS Height\n",
        "\n",
        "Values outside of the range (q1 - 1.5 x IQR, q3 + 1.5 x IQR) are considered as outliers and replaced with the median of the distribution"
      ]
    },
    {
      "cell_type": "code",
      "metadata": {
        "id": "10rTdDe57LoP"
      },
      "source": [
        "def median_impute(df, colum_name):\n",
        "  q1 = df[colum_name].quantile(0.25)\n",
        "  q3 = df[colum_name].quantile(0.75)\n",
        "  iqr = q3-q1\n",
        "  lower = q1 - iqr*1.5\n",
        "  upper = q3 + iqr*1.5\n",
        "\n",
        "  print(colum_name,lower,upper)\n",
        "\n",
        "  median = df[colum_name].median()\n",
        "\n",
        "  return df[colum_name].apply(lambda x: median if (x<lower or x>upper) else x)\n"
      ],
      "execution_count": 7,
      "outputs": []
    },
    {
      "cell_type": "code",
      "metadata": {
        "id": "j47-IhFy9frY",
        "colab": {
          "base_uri": "https://localhost:8080/"
        },
        "outputId": "1f0bc5c7-1dee-4ff7-a9ae-f02a83e05e35"
      },
      "source": [
        "df_features['amount_tsh'] = median_impute(df_features, 'amount_tsh')\n",
        "df_features['population'] = median_impute(df_features, 'population')\n",
        "df_train['gps_height'] = median_impute(df_train, 'gps_height')\n"
      ],
      "execution_count": 8,
      "outputs": [
        {
          "output_type": "stream",
          "name": "stdout",
          "text": [
            "amount_tsh -30.0 50.0\n",
            "population -322.5 537.5\n",
            "gps_height -1978.875 3298.125\n"
          ]
        }
      ]
    },
    {
      "cell_type": "markdown",
      "metadata": {
        "id": "3WB-Oc7S-to3"
      },
      "source": [
        "gps_height has zeros that looks deviated from the distribution and appears to be outliers. They were replaced with the mean of the respective ward(a geographical area)."
      ]
    },
    {
      "cell_type": "code",
      "metadata": {
        "id": "7wOIBKhDzD_Z"
      },
      "source": [
        "df_train['gps_height'] = df_train['gps_height'].apply(lambda x: np.nan if x<=0 else x)\n",
        "df_train['avg_height'] = df_train.groupby('ward')['gps_height'].transform(lambda x: x.gt(0).mean())\n",
        "df_train['gps_height'] = df_train['gps_height'].fillna(df_train[\"avg_height\"])\n",
        "df_features['gps_height'] = df_train['gps_height']"
      ],
      "execution_count": 9,
      "outputs": []
    },
    {
      "cell_type": "markdown",
      "metadata": {
        "id": "rUauc1tiEUvk"
      },
      "source": [
        "##### Contruction Year\n",
        "Some rows contains zeros. Those are replaced with the mean of entries greater than zero."
      ]
    },
    {
      "cell_type": "code",
      "metadata": {
        "id": "88-BHHKuETbP"
      },
      "source": [
        "construction_year_mean = df_train['construction_year'].sum()//(df_train['construction_year'].loc[df_train['construction_year'].gt(0)].count())\n",
        "df_train['construction_year'] = df_train['construction_year'].apply(lambda x: construction_year_mean if x==0 else x)"
      ],
      "execution_count": 10,
      "outputs": []
    },
    {
      "cell_type": "markdown",
      "metadata": {
        "id": "VKYDPleWE1nZ"
      },
      "source": [
        "### Feature Standardization\n",
        "\n",
        "amount_tsh, population and gps_height are standardized."
      ]
    },
    {
      "cell_type": "code",
      "metadata": {
        "id": "mcppjm5ohcnt"
      },
      "source": [
        "mean_amount_tsh = df_features['amount_tsh'].mean()\n",
        "std_amount_tsh = df_features['amount_tsh'].std()\n",
        "df_features['amount_tsh'] = df_features['amount_tsh'].apply(lambda x: (x-mean_amount_tsh)/std_amount_tsh)\n",
        "\n",
        "mean_population = df_features['population'].mean()\n",
        "std_population = df_features['population'].std()\n",
        "df_features['population'] = df_features['population'].apply(lambda x: (x-mean_population)/std_population)\n",
        "\n",
        "mean_gps_height = df_features['gps_height'].mean()\n",
        "std_gps_height = df_features['gps_height'].std()\n",
        "df_features['gps_height'] = df_features['gps_height'].apply(lambda x: (x-mean_gps_height)/std_gps_height)"
      ],
      "execution_count": 11,
      "outputs": []
    },
    {
      "cell_type": "markdown",
      "metadata": {
        "id": "ABVJAYhUNalD"
      },
      "source": [
        "### Creating New Features\n",
        "\n",
        "Age_at_year_recorded = construction_year - recorded_year"
      ]
    },
    {
      "cell_type": "code",
      "metadata": {
        "id": "sTFkWg5Bouvp"
      },
      "source": [
        "df_features['Age_at_year_recorded'] = pd.to_datetime(df_train['date_recorded']).dt.year-df_train['construction_year']"
      ],
      "execution_count": 12,
      "outputs": []
    },
    {
      "cell_type": "markdown",
      "metadata": {
        "id": "IvNgrDGRPlf4"
      },
      "source": [
        "### Missing Value Handling"
      ]
    },
    {
      "cell_type": "code",
      "metadata": {
        "id": "CA5MyNOJbyir"
      },
      "source": [
        "def PP_impute_with_medianormode (df):\n",
        "\n",
        "    num_cols = df._get_numeric_data().columns\n",
        "    categorical_columns=list(set(df.columns) - set(num_cols))\n",
        "    print(\"categorical_columns are\",categorical_columns)\n",
        "      \n",
        "    # Get list of DataFrame column names\n",
        "    cols = list(df)\n",
        "    # Loop through columns\n",
        "    for column in cols:\n",
        "      # Transfer column to independent series\n",
        "      col_data = df[column]\n",
        "      # Look to see if there is any missing numerical data\n",
        "      \n",
        "      missing_data = sum(col_data.isna())\n",
        "\n",
        "      if missing_data > 0:\n",
        "\n",
        "          if (column in categorical_columns): #For categorical columns replace with mode\n",
        "              #col_mode=col_data.mode()\n",
        "              col_mode=col_data.value_counts().index[0]\n",
        "              print(\"Categorical column is '%s' and its mode is '%s'\"%(column,col_mode))\n",
        "          \n",
        "              col_data.fillna(col_mode, inplace=True)\n",
        "              #col_data.replace('NaN',col_mode,inplace=True)\n",
        "              df[column] = col_data\n",
        "          else:\n",
        "              # Get median and replace missing numerical data with median\n",
        "              col_median = col_data.median()\n",
        "              print(\"Numerical column is '%s' and its median is '%s'\"%(column,col_median))\n",
        "              col_data.fillna(col_median, inplace=True)\n",
        "              df[column] = col_data\n",
        "    return df"
      ],
      "execution_count": 13,
      "outputs": []
    },
    {
      "cell_type": "code",
      "metadata": {
        "colab": {
          "base_uri": "https://localhost:8080/"
        },
        "id": "JHVm7AEePrS3",
        "outputId": "074f559a-9efe-4f35-8395-b5acf1c14926"
      },
      "source": [
        "df_train['permit'] = PP_impute_with_medianormode(df_train[['permit']])\n",
        "df_train['public_meeting'] = PP_impute_with_medianormode(df_train[['public_meeting']])"
      ],
      "execution_count": 14,
      "outputs": [
        {
          "output_type": "stream",
          "name": "stdout",
          "text": [
            "categorical_columns are ['permit']\n",
            "Categorical column is 'permit' and its mode is 'True'\n",
            "categorical_columns are ['public_meeting']\n",
            "Categorical column is 'public_meeting' and its mode is 'True'\n"
          ]
        }
      ]
    },
    {
      "cell_type": "markdown",
      "metadata": {
        "id": "dQvAjhC0PyRs"
      },
      "source": [
        "### Label Encoding / One-hot Encoding Features"
      ]
    },
    {
      "cell_type": "code",
      "metadata": {
        "id": "PsbLyDGZyZBA"
      },
      "source": [
        "enc_basin = LabelEncoder()\n",
        "df_features['basin'] = enc_basin.fit_transform(df_train['basin'].astype(str))\n",
        "\n",
        "# enc_1hot_basin = OneHotEncoder(handle_unknown='ignore')\n",
        "# df_features = df_features.join(pd.DataFrame(enc_1hot_basin.fit_transform(df_train[['basin']]).toarray()).add_prefix(\"basin_\"))"
      ],
      "execution_count": 15,
      "outputs": []
    },
    {
      "cell_type": "code",
      "metadata": {
        "id": "HDLdO83u2o66"
      },
      "source": [
        "# enc_permit = LabelEncoder()\n",
        "# df_train['permit'] = enc_permit.fit_transform(df_train['permit'].fillna(df_train['permit'].mode()))\n",
        "\n",
        "enc_1hot_permit = OneHotEncoder(handle_unknown='ignore')\n",
        "df_features = df_features.join(pd.DataFrame(enc_1hot_permit.fit_transform(df_train[['permit']]).toarray()).add_prefix(\"permit_\"))"
      ],
      "execution_count": 16,
      "outputs": []
    },
    {
      "cell_type": "code",
      "metadata": {
        "id": "865WMuaGYVZH"
      },
      "source": [
        "enc_extraction_type_class = LabelEncoder()\n",
        "df_features['extraction_type_class'] = enc_extraction_type_class.fit_transform(df_train['extraction_type_class'].fillna(df_train['extraction_type_class'].mode()))\n"
      ],
      "execution_count": 17,
      "outputs": []
    },
    {
      "cell_type": "code",
      "metadata": {
        "id": "i9sCDcQRAFSF"
      },
      "source": [
        "enc_management = LabelEncoder()\n",
        "df_features['management'] = enc_management.fit_transform(df_train['management'].fillna('unknown'))\n",
        "\n",
        "# enc_1hot_management = OneHotEncoder(handle_unknown='ignore')\n",
        "# df_features = df_features.join(pd.DataFrame(enc_1hot_management.fit_transform(df_train[['management']]).toarray()).add_prefix(\"management_\"))"
      ],
      "execution_count": 18,
      "outputs": []
    },
    {
      "cell_type": "code",
      "metadata": {
        "id": "Di8XAWVnbB3C"
      },
      "source": [
        "enc_management_group = LabelEncoder()\n",
        "df_features['management_group'] = enc_management_group.fit_transform(df_train['management_group'].fillna('unknown'))"
      ],
      "execution_count": 19,
      "outputs": []
    },
    {
      "cell_type": "code",
      "metadata": {
        "id": "Zyda8L2LCH-x"
      },
      "source": [
        "# enc_water_quality = LabelEncoder()\n",
        "# df_train['water_quality'] = enc_water_quality.fit_transform(df_train['water_quality'].fillna('unknown')"
      ],
      "execution_count": 20,
      "outputs": []
    },
    {
      "cell_type": "code",
      "metadata": {
        "id": "RhffxBApCg16"
      },
      "source": [
        "enc_quality_group = LabelEncoder()\n",
        "df_features['quality_group'] = enc_quality_group.fit_transform(df_train['quality_group'].fillna('unknown'))\n",
        "\n",
        "# enc_1hot_quality_group = OneHotEncoder(handle_unknown='ignore')\n",
        "# df_features = df_features.join(pd.DataFrame(enc_1hot_quality_group.fit_transform(df_train[['quality_group']]).toarray()).add_prefix(\"quality_group_\"))"
      ],
      "execution_count": 21,
      "outputs": []
    },
    {
      "cell_type": "code",
      "metadata": {
        "id": "8Cv-5VzaJuzU"
      },
      "source": [
        "# enc_quantity = LabelEncoder()\n",
        "# df_train['quantity'] = enc_quantity.fit_transform(df_train['quantity'].fillna('unknown'))\n",
        "\n",
        "enc_1hot_quantity = OneHotEncoder(handle_unknown='ignore')\n",
        "df_features = df_features.join(pd.DataFrame(enc_1hot_quantity.fit_transform(df_train[['quantity']]).toarray()).add_prefix(\"quantity_\"))"
      ],
      "execution_count": 22,
      "outputs": []
    },
    {
      "cell_type": "code",
      "metadata": {
        "id": "CHcXdRTYM0oP"
      },
      "source": [
        "# enc_source = LabelEncoder()\n",
        "# df_train['source'] = enc_source.fit_transform(df_train['source'].fillna('unknown'))\n",
        "\n",
        "enc_1hot_source = OneHotEncoder(handle_unknown='ignore')\n",
        "df_features = df_features.join(pd.DataFrame(enc_1hot_source.fit_transform(df_train[['source']]).toarray()).add_prefix(\"source_\"))"
      ],
      "execution_count": 23,
      "outputs": []
    },
    {
      "cell_type": "code",
      "metadata": {
        "id": "tY2wKSQMO5Xc"
      },
      "source": [
        "# enc_waterpoint_type_group = LabelEncoder()\n",
        "# df_train['waterpoint_type_group'] = enc_waterpoint_type_group.fit_transform(df_train['waterpoint_type_group'].fillna('other'))\n",
        "\n",
        "enc_1hot_waterpoint_type_group = OneHotEncoder(handle_unknown='ignore')\n",
        "df_features = df_features.join(pd.DataFrame(enc_1hot_waterpoint_type_group.fit_transform(df_train[['waterpoint_type_group']]).toarray()).add_prefix(\"waterpoint_type_group_\"))"
      ],
      "execution_count": 24,
      "outputs": []
    },
    {
      "cell_type": "code",
      "metadata": {
        "id": "TQRGDq7QFDLT"
      },
      "source": [
        "# enc_region_code = LabelEncoder()\n",
        "# df_features['region_code'] = enc_region_code.fit_transform(df_train['region_code'].fillna('other'))\n",
        "\n",
        "\n",
        "enc_1hot_region_code = OneHotEncoder(handle_unknown='ignore')\n",
        "df_features = df_features.join(pd.DataFrame(enc_1hot_region_code.fit_transform(df_train[['region_code']]).toarray()).add_prefix(\"region_code_\"))"
      ],
      "execution_count": 25,
      "outputs": []
    },
    {
      "cell_type": "code",
      "metadata": {
        "id": "1JUsYib6gmTy"
      },
      "source": [
        "enc_construction_year = LabelEncoder()\n",
        "df_features['construction_year'] = enc_construction_year.fit_transform(df_train['construction_year'])\n",
        "\n",
        "# enc_1hot_construction_year = OneHotEncoder(handle_unknown='ignore')\n",
        "# df_features = df_features.join(pd.DataFrame(enc_1hot_construction_year.fit_transform(df_train[['construction_year']]).toarray()).add_prefix(\"construction_year_\"))"
      ],
      "execution_count": 26,
      "outputs": []
    },
    {
      "cell_type": "code",
      "metadata": {
        "id": "n1Rm12N3KFNs"
      },
      "source": [
        "enc_funder = LabelEncoder()\n",
        "enc_funder.fit(df_combined['funder'].astype(str))\n",
        "df_features['funder'] = enc_funder.transform(df_train['funder'].astype(str))\n",
        "\n",
        "# df_train['funder'] = PP_impute_with_medianormode(df_train[['funder']])\n",
        "# enc_1hot_funder = OneHotEncoder(handle_unknown='ignore')\n",
        "# df_features = df_features.join(pd.DataFrame(enc_1hot_funder.fit_transform(df_train[['funder']]).toarray()).add_prefix(\"funder_\"))"
      ],
      "execution_count": 27,
      "outputs": []
    },
    {
      "cell_type": "code",
      "metadata": {
        "id": "syy44KhuQRDY"
      },
      "source": [
        "enc_installer = LabelEncoder()\n",
        "enc_installer.fit(df_combined['installer'].astype(str))\n",
        "df_features['installer'] = enc_installer.transform(df_train['installer'].astype(str))"
      ],
      "execution_count": 28,
      "outputs": []
    },
    {
      "cell_type": "code",
      "metadata": {
        "id": "bb3LV_VcSwbB"
      },
      "source": [
        "# enc_subvillage = LabelEncoder()\n",
        "# df_features['subvillage'] = enc_subvillage.fit_transform(df_train['subvillage'].astype(str))"
      ],
      "execution_count": 29,
      "outputs": []
    },
    {
      "cell_type": "code",
      "metadata": {
        "id": "omipfmdsTRdC"
      },
      "source": [
        "enc_lga = LabelEncoder()\n",
        "df_features['lga'] = enc_lga.fit_transform(df_train['lga'].astype(str))"
      ],
      "execution_count": 30,
      "outputs": []
    },
    {
      "cell_type": "code",
      "metadata": {
        "id": "BVjq8KlMV-oQ"
      },
      "source": [
        "enc_public_meeting = LabelEncoder()\n",
        "df_features['public_meeting'] = enc_public_meeting.fit_transform(df_train['public_meeting'])"
      ],
      "execution_count": 31,
      "outputs": []
    },
    {
      "cell_type": "code",
      "metadata": {
        "id": "-QJsaFHvd6DA"
      },
      "source": [
        "enc_payment = LabelEncoder()\n",
        "df_features['payment'] = enc_payment.fit_transform(df_train['payment'])"
      ],
      "execution_count": 32,
      "outputs": []
    },
    {
      "cell_type": "code",
      "metadata": {
        "id": "sjWlwu_qgr8D"
      },
      "source": [
        "enc_source_class = LabelEncoder()\n",
        "df_features['source_class'] = enc_source_class.fit_transform(df_train['source_class'])"
      ],
      "execution_count": 33,
      "outputs": []
    },
    {
      "cell_type": "code",
      "metadata": {
        "id": "fmbCRcvBhMty"
      },
      "source": [
        "enc_waterpoint_type_group = LabelEncoder()\n",
        "df_features['waterpoint_type_group'] = enc_waterpoint_type_group.fit_transform(df_train['waterpoint_type_group'])"
      ],
      "execution_count": 34,
      "outputs": []
    },
    {
      "cell_type": "code",
      "metadata": {
        "colab": {
          "base_uri": "https://localhost:8080/",
          "height": 224
        },
        "id": "GZt4HjU88AqH",
        "outputId": "d318f785-7f99-4444-9573-34ea553b6cfb"
      },
      "source": [
        "df_features.head()"
      ],
      "execution_count": 35,
      "outputs": [
        {
          "output_type": "execute_result",
          "data": {
            "text/html": [
              "<div>\n",
              "<style scoped>\n",
              "    .dataframe tbody tr th:only-of-type {\n",
              "        vertical-align: middle;\n",
              "    }\n",
              "\n",
              "    .dataframe tbody tr th {\n",
              "        vertical-align: top;\n",
              "    }\n",
              "\n",
              "    .dataframe thead th {\n",
              "        text-align: right;\n",
              "    }\n",
              "</style>\n",
              "<table border=\"1\" class=\"dataframe\">\n",
              "  <thead>\n",
              "    <tr style=\"text-align: right;\">\n",
              "      <th></th>\n",
              "      <th>id</th>\n",
              "      <th>amount_tsh</th>\n",
              "      <th>population</th>\n",
              "      <th>gps_height</th>\n",
              "      <th>latitude</th>\n",
              "      <th>longitude</th>\n",
              "      <th>status_group</th>\n",
              "      <th>Age_at_year_recorded</th>\n",
              "      <th>basin</th>\n",
              "      <th>permit_0</th>\n",
              "      <th>permit_1</th>\n",
              "      <th>extraction_type_class</th>\n",
              "      <th>management</th>\n",
              "      <th>management_group</th>\n",
              "      <th>quality_group</th>\n",
              "      <th>quantity_0</th>\n",
              "      <th>quantity_1</th>\n",
              "      <th>quantity_2</th>\n",
              "      <th>quantity_3</th>\n",
              "      <th>quantity_4</th>\n",
              "      <th>source_0</th>\n",
              "      <th>source_1</th>\n",
              "      <th>source_2</th>\n",
              "      <th>source_3</th>\n",
              "      <th>source_4</th>\n",
              "      <th>source_5</th>\n",
              "      <th>source_6</th>\n",
              "      <th>source_7</th>\n",
              "      <th>source_8</th>\n",
              "      <th>source_9</th>\n",
              "      <th>waterpoint_type_group_0</th>\n",
              "      <th>waterpoint_type_group_1</th>\n",
              "      <th>waterpoint_type_group_2</th>\n",
              "      <th>waterpoint_type_group_3</th>\n",
              "      <th>waterpoint_type_group_4</th>\n",
              "      <th>waterpoint_type_group_5</th>\n",
              "      <th>region_code_0</th>\n",
              "      <th>region_code_1</th>\n",
              "      <th>region_code_2</th>\n",
              "      <th>region_code_3</th>\n",
              "      <th>region_code_4</th>\n",
              "      <th>region_code_5</th>\n",
              "      <th>region_code_6</th>\n",
              "      <th>region_code_7</th>\n",
              "      <th>region_code_8</th>\n",
              "      <th>region_code_9</th>\n",
              "      <th>region_code_10</th>\n",
              "      <th>region_code_11</th>\n",
              "      <th>region_code_12</th>\n",
              "      <th>region_code_13</th>\n",
              "      <th>region_code_14</th>\n",
              "      <th>region_code_15</th>\n",
              "      <th>region_code_16</th>\n",
              "      <th>region_code_17</th>\n",
              "      <th>region_code_18</th>\n",
              "      <th>region_code_19</th>\n",
              "      <th>region_code_20</th>\n",
              "      <th>region_code_21</th>\n",
              "      <th>region_code_22</th>\n",
              "      <th>region_code_23</th>\n",
              "      <th>region_code_24</th>\n",
              "      <th>region_code_25</th>\n",
              "      <th>region_code_26</th>\n",
              "      <th>construction_year</th>\n",
              "      <th>funder</th>\n",
              "      <th>installer</th>\n",
              "      <th>lga</th>\n",
              "      <th>public_meeting</th>\n",
              "      <th>payment</th>\n",
              "      <th>source_class</th>\n",
              "      <th>waterpoint_type_group</th>\n",
              "    </tr>\n",
              "  </thead>\n",
              "  <tbody>\n",
              "    <tr>\n",
              "      <th>0</th>\n",
              "      <td>69572</td>\n",
              "      <td>-0.304223</td>\n",
              "      <td>0.137788</td>\n",
              "      <td>1.041262</td>\n",
              "      <td>-9.856322</td>\n",
              "      <td>34.938093</td>\n",
              "      <td>functional</td>\n",
              "      <td>12</td>\n",
              "      <td>1</td>\n",
              "      <td>1.0</td>\n",
              "      <td>0.0</td>\n",
              "      <td>0</td>\n",
              "      <td>7</td>\n",
              "      <td>4</td>\n",
              "      <td>2</td>\n",
              "      <td>0.0</td>\n",
              "      <td>1.0</td>\n",
              "      <td>0.0</td>\n",
              "      <td>0.0</td>\n",
              "      <td>0.0</td>\n",
              "      <td>0.0</td>\n",
              "      <td>0.0</td>\n",
              "      <td>0.0</td>\n",
              "      <td>0.0</td>\n",
              "      <td>0.0</td>\n",
              "      <td>0.0</td>\n",
              "      <td>0.0</td>\n",
              "      <td>0.0</td>\n",
              "      <td>1.0</td>\n",
              "      <td>0.0</td>\n",
              "      <td>0.0</td>\n",
              "      <td>1.0</td>\n",
              "      <td>0.0</td>\n",
              "      <td>0.0</td>\n",
              "      <td>0.0</td>\n",
              "      <td>0.0</td>\n",
              "      <td>0.0</td>\n",
              "      <td>0.0</td>\n",
              "      <td>0.0</td>\n",
              "      <td>0.0</td>\n",
              "      <td>0.0</td>\n",
              "      <td>0.0</td>\n",
              "      <td>0.0</td>\n",
              "      <td>0.0</td>\n",
              "      <td>0.0</td>\n",
              "      <td>0.0</td>\n",
              "      <td>1.0</td>\n",
              "      <td>0.0</td>\n",
              "      <td>0.0</td>\n",
              "      <td>0.0</td>\n",
              "      <td>0.0</td>\n",
              "      <td>0.0</td>\n",
              "      <td>0.0</td>\n",
              "      <td>0.0</td>\n",
              "      <td>0.0</td>\n",
              "      <td>0.0</td>\n",
              "      <td>0.0</td>\n",
              "      <td>0.0</td>\n",
              "      <td>0.0</td>\n",
              "      <td>0.0</td>\n",
              "      <td>0.0</td>\n",
              "      <td>0.0</td>\n",
              "      <td>0.0</td>\n",
              "      <td>39</td>\n",
              "      <td>1548</td>\n",
              "      <td>1706</td>\n",
              "      <td>51</td>\n",
              "      <td>1</td>\n",
              "      <td>2</td>\n",
              "      <td>0</td>\n",
              "      <td>1</td>\n",
              "    </tr>\n",
              "    <tr>\n",
              "      <th>1</th>\n",
              "      <td>8776</td>\n",
              "      <td>-0.304223</td>\n",
              "      <td>1.418889</td>\n",
              "      <td>1.054256</td>\n",
              "      <td>-2.147466</td>\n",
              "      <td>34.698766</td>\n",
              "      <td>functional</td>\n",
              "      <td>3</td>\n",
              "      <td>4</td>\n",
              "      <td>0.0</td>\n",
              "      <td>1.0</td>\n",
              "      <td>0</td>\n",
              "      <td>11</td>\n",
              "      <td>4</td>\n",
              "      <td>2</td>\n",
              "      <td>0.0</td>\n",
              "      <td>0.0</td>\n",
              "      <td>1.0</td>\n",
              "      <td>0.0</td>\n",
              "      <td>0.0</td>\n",
              "      <td>0.0</td>\n",
              "      <td>0.0</td>\n",
              "      <td>0.0</td>\n",
              "      <td>0.0</td>\n",
              "      <td>0.0</td>\n",
              "      <td>1.0</td>\n",
              "      <td>0.0</td>\n",
              "      <td>0.0</td>\n",
              "      <td>0.0</td>\n",
              "      <td>0.0</td>\n",
              "      <td>0.0</td>\n",
              "      <td>1.0</td>\n",
              "      <td>0.0</td>\n",
              "      <td>0.0</td>\n",
              "      <td>0.0</td>\n",
              "      <td>0.0</td>\n",
              "      <td>0.0</td>\n",
              "      <td>0.0</td>\n",
              "      <td>0.0</td>\n",
              "      <td>0.0</td>\n",
              "      <td>0.0</td>\n",
              "      <td>0.0</td>\n",
              "      <td>0.0</td>\n",
              "      <td>0.0</td>\n",
              "      <td>0.0</td>\n",
              "      <td>0.0</td>\n",
              "      <td>0.0</td>\n",
              "      <td>0.0</td>\n",
              "      <td>0.0</td>\n",
              "      <td>0.0</td>\n",
              "      <td>0.0</td>\n",
              "      <td>0.0</td>\n",
              "      <td>0.0</td>\n",
              "      <td>0.0</td>\n",
              "      <td>0.0</td>\n",
              "      <td>1.0</td>\n",
              "      <td>0.0</td>\n",
              "      <td>0.0</td>\n",
              "      <td>0.0</td>\n",
              "      <td>0.0</td>\n",
              "      <td>0.0</td>\n",
              "      <td>0.0</td>\n",
              "      <td>0.0</td>\n",
              "      <td>50</td>\n",
              "      <td>522</td>\n",
              "      <td>610</td>\n",
              "      <td>103</td>\n",
              "      <td>1</td>\n",
              "      <td>0</td>\n",
              "      <td>1</td>\n",
              "      <td>1</td>\n",
              "    </tr>\n",
              "    <tr>\n",
              "      <th>2</th>\n",
              "      <td>34310</td>\n",
              "      <td>1.963536</td>\n",
              "      <td>1.194134</td>\n",
              "      <td>0.024812</td>\n",
              "      <td>-3.821329</td>\n",
              "      <td>37.460664</td>\n",
              "      <td>functional</td>\n",
              "      <td>4</td>\n",
              "      <td>5</td>\n",
              "      <td>0.0</td>\n",
              "      <td>1.0</td>\n",
              "      <td>0</td>\n",
              "      <td>7</td>\n",
              "      <td>4</td>\n",
              "      <td>2</td>\n",
              "      <td>0.0</td>\n",
              "      <td>1.0</td>\n",
              "      <td>0.0</td>\n",
              "      <td>0.0</td>\n",
              "      <td>0.0</td>\n",
              "      <td>1.0</td>\n",
              "      <td>0.0</td>\n",
              "      <td>0.0</td>\n",
              "      <td>0.0</td>\n",
              "      <td>0.0</td>\n",
              "      <td>0.0</td>\n",
              "      <td>0.0</td>\n",
              "      <td>0.0</td>\n",
              "      <td>0.0</td>\n",
              "      <td>0.0</td>\n",
              "      <td>0.0</td>\n",
              "      <td>1.0</td>\n",
              "      <td>0.0</td>\n",
              "      <td>0.0</td>\n",
              "      <td>0.0</td>\n",
              "      <td>0.0</td>\n",
              "      <td>0.0</td>\n",
              "      <td>0.0</td>\n",
              "      <td>0.0</td>\n",
              "      <td>0.0</td>\n",
              "      <td>0.0</td>\n",
              "      <td>0.0</td>\n",
              "      <td>0.0</td>\n",
              "      <td>0.0</td>\n",
              "      <td>0.0</td>\n",
              "      <td>0.0</td>\n",
              "      <td>0.0</td>\n",
              "      <td>0.0</td>\n",
              "      <td>0.0</td>\n",
              "      <td>0.0</td>\n",
              "      <td>0.0</td>\n",
              "      <td>0.0</td>\n",
              "      <td>0.0</td>\n",
              "      <td>0.0</td>\n",
              "      <td>0.0</td>\n",
              "      <td>0.0</td>\n",
              "      <td>1.0</td>\n",
              "      <td>0.0</td>\n",
              "      <td>0.0</td>\n",
              "      <td>0.0</td>\n",
              "      <td>0.0</td>\n",
              "      <td>0.0</td>\n",
              "      <td>0.0</td>\n",
              "      <td>49</td>\n",
              "      <td>924</td>\n",
              "      <td>2296</td>\n",
              "      <td>108</td>\n",
              "      <td>1</td>\n",
              "      <td>4</td>\n",
              "      <td>1</td>\n",
              "      <td>1</td>\n",
              "    </tr>\n",
              "    <tr>\n",
              "      <th>3</th>\n",
              "      <td>67743</td>\n",
              "      <td>-0.304223</td>\n",
              "      <td>-0.244295</td>\n",
              "      <td>-0.585924</td>\n",
              "      <td>-11.155298</td>\n",
              "      <td>38.486161</td>\n",
              "      <td>non functional</td>\n",
              "      <td>27</td>\n",
              "      <td>7</td>\n",
              "      <td>0.0</td>\n",
              "      <td>1.0</td>\n",
              "      <td>5</td>\n",
              "      <td>7</td>\n",
              "      <td>4</td>\n",
              "      <td>2</td>\n",
              "      <td>1.0</td>\n",
              "      <td>0.0</td>\n",
              "      <td>0.0</td>\n",
              "      <td>0.0</td>\n",
              "      <td>0.0</td>\n",
              "      <td>0.0</td>\n",
              "      <td>0.0</td>\n",
              "      <td>0.0</td>\n",
              "      <td>1.0</td>\n",
              "      <td>0.0</td>\n",
              "      <td>0.0</td>\n",
              "      <td>0.0</td>\n",
              "      <td>0.0</td>\n",
              "      <td>0.0</td>\n",
              "      <td>0.0</td>\n",
              "      <td>0.0</td>\n",
              "      <td>1.0</td>\n",
              "      <td>0.0</td>\n",
              "      <td>0.0</td>\n",
              "      <td>0.0</td>\n",
              "      <td>0.0</td>\n",
              "      <td>0.0</td>\n",
              "      <td>0.0</td>\n",
              "      <td>0.0</td>\n",
              "      <td>0.0</td>\n",
              "      <td>0.0</td>\n",
              "      <td>0.0</td>\n",
              "      <td>0.0</td>\n",
              "      <td>0.0</td>\n",
              "      <td>0.0</td>\n",
              "      <td>0.0</td>\n",
              "      <td>0.0</td>\n",
              "      <td>0.0</td>\n",
              "      <td>0.0</td>\n",
              "      <td>0.0</td>\n",
              "      <td>0.0</td>\n",
              "      <td>0.0</td>\n",
              "      <td>0.0</td>\n",
              "      <td>0.0</td>\n",
              "      <td>0.0</td>\n",
              "      <td>0.0</td>\n",
              "      <td>0.0</td>\n",
              "      <td>0.0</td>\n",
              "      <td>0.0</td>\n",
              "      <td>0.0</td>\n",
              "      <td>0.0</td>\n",
              "      <td>1.0</td>\n",
              "      <td>0.0</td>\n",
              "      <td>26</td>\n",
              "      <td>1961</td>\n",
              "      <td>2078</td>\n",
              "      <td>87</td>\n",
              "      <td>1</td>\n",
              "      <td>0</td>\n",
              "      <td>0</td>\n",
              "      <td>1</td>\n",
              "    </tr>\n",
              "    <tr>\n",
              "      <th>4</th>\n",
              "      <td>19728</td>\n",
              "      <td>-0.304223</td>\n",
              "      <td>-0.678821</td>\n",
              "      <td>-0.965648</td>\n",
              "      <td>-1.825359</td>\n",
              "      <td>31.130847</td>\n",
              "      <td>functional</td>\n",
              "      <td>15</td>\n",
              "      <td>4</td>\n",
              "      <td>0.0</td>\n",
              "      <td>1.0</td>\n",
              "      <td>0</td>\n",
              "      <td>1</td>\n",
              "      <td>1</td>\n",
              "      <td>2</td>\n",
              "      <td>0.0</td>\n",
              "      <td>0.0</td>\n",
              "      <td>0.0</td>\n",
              "      <td>1.0</td>\n",
              "      <td>0.0</td>\n",
              "      <td>0.0</td>\n",
              "      <td>0.0</td>\n",
              "      <td>0.0</td>\n",
              "      <td>0.0</td>\n",
              "      <td>0.0</td>\n",
              "      <td>1.0</td>\n",
              "      <td>0.0</td>\n",
              "      <td>0.0</td>\n",
              "      <td>0.0</td>\n",
              "      <td>0.0</td>\n",
              "      <td>0.0</td>\n",
              "      <td>1.0</td>\n",
              "      <td>0.0</td>\n",
              "      <td>0.0</td>\n",
              "      <td>0.0</td>\n",
              "      <td>0.0</td>\n",
              "      <td>0.0</td>\n",
              "      <td>0.0</td>\n",
              "      <td>0.0</td>\n",
              "      <td>0.0</td>\n",
              "      <td>0.0</td>\n",
              "      <td>0.0</td>\n",
              "      <td>0.0</td>\n",
              "      <td>0.0</td>\n",
              "      <td>0.0</td>\n",
              "      <td>0.0</td>\n",
              "      <td>0.0</td>\n",
              "      <td>0.0</td>\n",
              "      <td>0.0</td>\n",
              "      <td>0.0</td>\n",
              "      <td>0.0</td>\n",
              "      <td>0.0</td>\n",
              "      <td>0.0</td>\n",
              "      <td>1.0</td>\n",
              "      <td>0.0</td>\n",
              "      <td>0.0</td>\n",
              "      <td>0.0</td>\n",
              "      <td>0.0</td>\n",
              "      <td>0.0</td>\n",
              "      <td>0.0</td>\n",
              "      <td>0.0</td>\n",
              "      <td>0.0</td>\n",
              "      <td>0.0</td>\n",
              "      <td>36</td>\n",
              "      <td>20</td>\n",
              "      <td>133</td>\n",
              "      <td>26</td>\n",
              "      <td>1</td>\n",
              "      <td>0</td>\n",
              "      <td>1</td>\n",
              "      <td>1</td>\n",
              "    </tr>\n",
              "  </tbody>\n",
              "</table>\n",
              "</div>"
            ],
            "text/plain": [
              "      id  amount_tsh  population  ...  payment  source_class  waterpoint_type_group\n",
              "0  69572   -0.304223    0.137788  ...        2             0                      1\n",
              "1   8776   -0.304223    1.418889  ...        0             1                      1\n",
              "2  34310    1.963536    1.194134  ...        4             1                      1\n",
              "3  67743   -0.304223   -0.244295  ...        0             0                      1\n",
              "4  19728   -0.304223   -0.678821  ...        0             1                      1\n",
              "\n",
              "[5 rows x 71 columns]"
            ]
          },
          "metadata": {},
          "execution_count": 35
        }
      ]
    },
    {
      "cell_type": "markdown",
      "metadata": {
        "id": "on14yVMEQoug"
      },
      "source": [
        "# Model Creation"
      ]
    },
    {
      "cell_type": "code",
      "metadata": {
        "colab": {
          "base_uri": "https://localhost:8080/"
        },
        "id": "rwqT8sicTPtb",
        "outputId": "911956af-d338-40cc-a9ef-3092ca3cd0ff"
      },
      "source": [
        "X = df_features.copy()\n",
        "y = X.pop(\"status_group\")\n",
        "X.pop('id')"
      ],
      "execution_count": 36,
      "outputs": [
        {
          "output_type": "execute_result",
          "data": {
            "text/plain": [
              "0        69572\n",
              "1         8776\n",
              "2        34310\n",
              "3        67743\n",
              "4        19728\n",
              "         ...  \n",
              "59395    60739\n",
              "59396    27263\n",
              "59397    37057\n",
              "59398    31282\n",
              "59399    26348\n",
              "Name: id, Length: 59400, dtype: int64"
            ]
          },
          "metadata": {},
          "execution_count": 36
        }
      ]
    },
    {
      "cell_type": "code",
      "metadata": {
        "id": "vErH7Fub-P5w"
      },
      "source": [
        "X_tmp = X\n",
        "\n",
        "# Comment the relevent line based of the sumission or not\n",
        "\n",
        "is_submission = True\n",
        "# is_submission = False\n",
        "\n",
        "if not is_submission:\n",
        "  X_train, X_test, y_train, y_test = train_test_split(X_tmp, y,test_size=0.2, random_state=1, stratify=y)\n",
        "else:\n",
        "  X_train = X_tmp\n",
        "  y_train = y"
      ],
      "execution_count": 37,
      "outputs": []
    },
    {
      "cell_type": "markdown",
      "metadata": {
        "id": "_p1OptydQ8WE"
      },
      "source": [
        "### Random Forest Classifier"
      ]
    },
    {
      "cell_type": "code",
      "metadata": {
        "id": "h4CD5FeHTUyb",
        "colab": {
          "base_uri": "https://localhost:8080/"
        },
        "outputId": "fb6878b0-cb8b-446a-9c69-8e6ba62ccb74"
      },
      "source": [
        "model = RandomForestClassifier(n_estimators=1000, max_depth=21, random_state=1)\n",
        "model.fit(X_train, y_train)\n",
        "\n",
        "print(\"Train Accuracy: \",accuracy_score(model.predict(X_train), y_train))\n",
        "if not is_submission:\n",
        "  print(\"Test Accuracy: \",accuracy_score(model.predict(X_test), y_test))"
      ],
      "execution_count": 38,
      "outputs": [
        {
          "output_type": "stream",
          "name": "stdout",
          "text": [
            "Train Accuracy:  0.9408585858585858\n"
          ]
        }
      ]
    },
    {
      "cell_type": "markdown",
      "metadata": {
        "id": "mVQcyIZ4G5Am"
      },
      "source": [
        "### Feature Importance of the Model"
      ]
    },
    {
      "cell_type": "code",
      "metadata": {
        "colab": {
          "base_uri": "https://localhost:8080/",
          "height": 473
        },
        "id": "QzjluiTHIfrG",
        "outputId": "43296a2a-6d99-4208-8426-1b0d1fd34a89"
      },
      "source": [
        "df_importance = pd.DataFrame(model.feature_importances_, index=X_train.columns)\n",
        "\n",
        "fig, ax = plt.subplots(figsize=(20, 6))\n",
        "fig.subplots_adjust(hspace=1.4)\n",
        "\n",
        "sns.lineplot(data=df_importance)\n",
        "for label in ax.get_xticklabels():\n",
        "    label.set_rotation(90)"
      ],
      "execution_count": 39,
      "outputs": [
        {
          "output_type": "display_data",
          "data": {
            "image/png": "[encoded data removed]",
            "text/plain": [
              "<Figure size 1440x432 with 1 Axes>"
            ]
          },
          "metadata": {}
        }
      ]
    },
    {
      "cell_type": "markdown",
      "metadata": {
        "id": "to2-TTqeslKu"
      },
      "source": [
        "### Generating Submission"
      ]
    },
    {
      "cell_type": "code",
      "metadata": {
        "colab": {
          "base_uri": "https://localhost:8080/",
          "height": 428
        },
        "id": "6TMlR-V0Vv4y",
        "outputId": "64a56ffa-3705-4f1d-bbb2-c33160f68639"
      },
      "source": [
        "df_test.head()"
      ],
      "execution_count": 40,
      "outputs": [
        {
          "output_type": "execute_result",
          "data": {
            "text/html": [
              "<div>\n",
              "<style scoped>\n",
              "    .dataframe tbody tr th:only-of-type {\n",
              "        vertical-align: middle;\n",
              "    }\n",
              "\n",
              "    .dataframe tbody tr th {\n",
              "        vertical-align: top;\n",
              "    }\n",
              "\n",
              "    .dataframe thead th {\n",
              "        text-align: right;\n",
              "    }\n",
              "</style>\n",
              "<table border=\"1\" class=\"dataframe\">\n",
              "  <thead>\n",
              "    <tr style=\"text-align: right;\">\n",
              "      <th></th>\n",
              "      <th>id</th>\n",
              "      <th>amount_tsh</th>\n",
              "      <th>date_recorded</th>\n",
              "      <th>funder</th>\n",
              "      <th>gps_height</th>\n",
              "      <th>installer</th>\n",
              "      <th>longitude</th>\n",
              "      <th>latitude</th>\n",
              "      <th>wpt_name</th>\n",
              "      <th>num_private</th>\n",
              "      <th>basin</th>\n",
              "      <th>subvillage</th>\n",
              "      <th>region</th>\n",
              "      <th>region_code</th>\n",
              "      <th>district_code</th>\n",
              "      <th>lga</th>\n",
              "      <th>ward</th>\n",
              "      <th>population</th>\n",
              "      <th>public_meeting</th>\n",
              "      <th>recorded_by</th>\n",
              "      <th>scheme_management</th>\n",
              "      <th>scheme_name</th>\n",
              "      <th>permit</th>\n",
              "      <th>construction_year</th>\n",
              "      <th>extraction_type</th>\n",
              "      <th>extraction_type_group</th>\n",
              "      <th>extraction_type_class</th>\n",
              "      <th>management</th>\n",
              "      <th>management_group</th>\n",
              "      <th>payment</th>\n",
              "      <th>payment_type</th>\n",
              "      <th>water_quality</th>\n",
              "      <th>quality_group</th>\n",
              "      <th>quantity</th>\n",
              "      <th>quantity_group</th>\n",
              "      <th>source</th>\n",
              "      <th>source_type</th>\n",
              "      <th>source_class</th>\n",
              "      <th>waterpoint_type</th>\n",
              "      <th>waterpoint_type_group</th>\n",
              "    </tr>\n",
              "  </thead>\n",
              "  <tbody>\n",
              "    <tr>\n",
              "      <th>0</th>\n",
              "      <td>50785</td>\n",
              "      <td>0.0</td>\n",
              "      <td>2013-02-04</td>\n",
              "      <td>Dmdd</td>\n",
              "      <td>1996</td>\n",
              "      <td>DMDD</td>\n",
              "      <td>35.290799</td>\n",
              "      <td>-4.059696</td>\n",
              "      <td>Dinamu Secondary School</td>\n",
              "      <td>0</td>\n",
              "      <td>Internal</td>\n",
              "      <td>Magoma</td>\n",
              "      <td>Manyara</td>\n",
              "      <td>21</td>\n",
              "      <td>3</td>\n",
              "      <td>Mbulu</td>\n",
              "      <td>Bashay</td>\n",
              "      <td>321</td>\n",
              "      <td>True</td>\n",
              "      <td>GeoData Consultants Ltd</td>\n",
              "      <td>Parastatal</td>\n",
              "      <td>NaN</td>\n",
              "      <td>True</td>\n",
              "      <td>2012</td>\n",
              "      <td>other</td>\n",
              "      <td>other</td>\n",
              "      <td>other</td>\n",
              "      <td>parastatal</td>\n",
              "      <td>parastatal</td>\n",
              "      <td>never pay</td>\n",
              "      <td>never pay</td>\n",
              "      <td>soft</td>\n",
              "      <td>good</td>\n",
              "      <td>seasonal</td>\n",
              "      <td>seasonal</td>\n",
              "      <td>rainwater harvesting</td>\n",
              "      <td>rainwater harvesting</td>\n",
              "      <td>surface</td>\n",
              "      <td>other</td>\n",
              "      <td>other</td>\n",
              "    </tr>\n",
              "    <tr>\n",
              "      <th>1</th>\n",
              "      <td>51630</td>\n",
              "      <td>0.0</td>\n",
              "      <td>2013-02-04</td>\n",
              "      <td>Government Of Tanzania</td>\n",
              "      <td>1569</td>\n",
              "      <td>DWE</td>\n",
              "      <td>36.656709</td>\n",
              "      <td>-3.309214</td>\n",
              "      <td>Kimnyak</td>\n",
              "      <td>0</td>\n",
              "      <td>Pangani</td>\n",
              "      <td>Kimnyak</td>\n",
              "      <td>Arusha</td>\n",
              "      <td>2</td>\n",
              "      <td>2</td>\n",
              "      <td>Arusha Rural</td>\n",
              "      <td>Kimnyaki</td>\n",
              "      <td>300</td>\n",
              "      <td>True</td>\n",
              "      <td>GeoData Consultants Ltd</td>\n",
              "      <td>VWC</td>\n",
              "      <td>TPRI pipe line</td>\n",
              "      <td>True</td>\n",
              "      <td>2000</td>\n",
              "      <td>gravity</td>\n",
              "      <td>gravity</td>\n",
              "      <td>gravity</td>\n",
              "      <td>vwc</td>\n",
              "      <td>user-group</td>\n",
              "      <td>never pay</td>\n",
              "      <td>never pay</td>\n",
              "      <td>soft</td>\n",
              "      <td>good</td>\n",
              "      <td>insufficient</td>\n",
              "      <td>insufficient</td>\n",
              "      <td>spring</td>\n",
              "      <td>spring</td>\n",
              "      <td>groundwater</td>\n",
              "      <td>communal standpipe</td>\n",
              "      <td>communal standpipe</td>\n",
              "    </tr>\n",
              "    <tr>\n",
              "      <th>2</th>\n",
              "      <td>17168</td>\n",
              "      <td>0.0</td>\n",
              "      <td>2013-02-01</td>\n",
              "      <td>NaN</td>\n",
              "      <td>1567</td>\n",
              "      <td>NaN</td>\n",
              "      <td>34.767863</td>\n",
              "      <td>-5.004344</td>\n",
              "      <td>Puma Secondary</td>\n",
              "      <td>0</td>\n",
              "      <td>Internal</td>\n",
              "      <td>Msatu</td>\n",
              "      <td>Singida</td>\n",
              "      <td>13</td>\n",
              "      <td>2</td>\n",
              "      <td>Singida Rural</td>\n",
              "      <td>Puma</td>\n",
              "      <td>500</td>\n",
              "      <td>True</td>\n",
              "      <td>GeoData Consultants Ltd</td>\n",
              "      <td>VWC</td>\n",
              "      <td>P</td>\n",
              "      <td>NaN</td>\n",
              "      <td>2010</td>\n",
              "      <td>other</td>\n",
              "      <td>other</td>\n",
              "      <td>other</td>\n",
              "      <td>vwc</td>\n",
              "      <td>user-group</td>\n",
              "      <td>never pay</td>\n",
              "      <td>never pay</td>\n",
              "      <td>soft</td>\n",
              "      <td>good</td>\n",
              "      <td>insufficient</td>\n",
              "      <td>insufficient</td>\n",
              "      <td>rainwater harvesting</td>\n",
              "      <td>rainwater harvesting</td>\n",
              "      <td>surface</td>\n",
              "      <td>other</td>\n",
              "      <td>other</td>\n",
              "    </tr>\n",
              "    <tr>\n",
              "      <th>3</th>\n",
              "      <td>45559</td>\n",
              "      <td>0.0</td>\n",
              "      <td>2013-01-22</td>\n",
              "      <td>Finn Water</td>\n",
              "      <td>267</td>\n",
              "      <td>FINN WATER</td>\n",
              "      <td>38.058046</td>\n",
              "      <td>-9.418672</td>\n",
              "      <td>Kwa Mzee Pange</td>\n",
              "      <td>0</td>\n",
              "      <td>Ruvuma / Southern Coast</td>\n",
              "      <td>Kipindimbi</td>\n",
              "      <td>Lindi</td>\n",
              "      <td>80</td>\n",
              "      <td>43</td>\n",
              "      <td>Liwale</td>\n",
              "      <td>Mkutano</td>\n",
              "      <td>250</td>\n",
              "      <td>NaN</td>\n",
              "      <td>GeoData Consultants Ltd</td>\n",
              "      <td>VWC</td>\n",
              "      <td>NaN</td>\n",
              "      <td>True</td>\n",
              "      <td>1987</td>\n",
              "      <td>other</td>\n",
              "      <td>other</td>\n",
              "      <td>other</td>\n",
              "      <td>vwc</td>\n",
              "      <td>user-group</td>\n",
              "      <td>unknown</td>\n",
              "      <td>unknown</td>\n",
              "      <td>soft</td>\n",
              "      <td>good</td>\n",
              "      <td>dry</td>\n",
              "      <td>dry</td>\n",
              "      <td>shallow well</td>\n",
              "      <td>shallow well</td>\n",
              "      <td>groundwater</td>\n",
              "      <td>other</td>\n",
              "      <td>other</td>\n",
              "    </tr>\n",
              "    <tr>\n",
              "      <th>4</th>\n",
              "      <td>49871</td>\n",
              "      <td>500.0</td>\n",
              "      <td>2013-03-27</td>\n",
              "      <td>Bruder</td>\n",
              "      <td>1260</td>\n",
              "      <td>BRUDER</td>\n",
              "      <td>35.006123</td>\n",
              "      <td>-10.950412</td>\n",
              "      <td>Kwa Mzee Turuka</td>\n",
              "      <td>0</td>\n",
              "      <td>Ruvuma / Southern Coast</td>\n",
              "      <td>Losonga</td>\n",
              "      <td>Ruvuma</td>\n",
              "      <td>10</td>\n",
              "      <td>3</td>\n",
              "      <td>Mbinga</td>\n",
              "      <td>Mbinga Urban</td>\n",
              "      <td>60</td>\n",
              "      <td>NaN</td>\n",
              "      <td>GeoData Consultants Ltd</td>\n",
              "      <td>Water Board</td>\n",
              "      <td>BRUDER</td>\n",
              "      <td>True</td>\n",
              "      <td>2000</td>\n",
              "      <td>gravity</td>\n",
              "      <td>gravity</td>\n",
              "      <td>gravity</td>\n",
              "      <td>water board</td>\n",
              "      <td>user-group</td>\n",
              "      <td>pay monthly</td>\n",
              "      <td>monthly</td>\n",
              "      <td>soft</td>\n",
              "      <td>good</td>\n",
              "      <td>enough</td>\n",
              "      <td>enough</td>\n",
              "      <td>spring</td>\n",
              "      <td>spring</td>\n",
              "      <td>groundwater</td>\n",
              "      <td>communal standpipe</td>\n",
              "      <td>communal standpipe</td>\n",
              "    </tr>\n",
              "  </tbody>\n",
              "</table>\n",
              "</div>"
            ],
            "text/plain": [
              "      id  amount_tsh  ...     waterpoint_type waterpoint_type_group\n",
              "0  50785         0.0  ...               other                 other\n",
              "1  51630         0.0  ...  communal standpipe    communal standpipe\n",
              "2  17168         0.0  ...               other                 other\n",
              "3  45559         0.0  ...               other                 other\n",
              "4  49871       500.0  ...  communal standpipe    communal standpipe\n",
              "\n",
              "[5 rows x 40 columns]"
            ]
          },
          "metadata": {},
          "execution_count": 40
        }
      ]
    },
    {
      "cell_type": "markdown",
      "metadata": {
        "id": "cWRXIVk6KwJG"
      },
      "source": [
        "#### Pre-prosessing Test Set Values"
      ]
    },
    {
      "cell_type": "code",
      "metadata": {
        "id": "wtrhCfJvstc-"
      },
      "source": [
        "df_features_test = pd.DataFrame(df_test[['id', 'amount_tsh', 'population', 'gps_height', 'latitude', 'longitude']])\n",
        "\n",
        "df_features_test['amount_tsh'] = df_features_test['amount_tsh'].apply(lambda x: (x-mean_amount_tsh)/std_amount_tsh)\n",
        "df_features_test['population'] = df_features_test['population'].apply(lambda x: (x-mean_population)/std_population)\n",
        "df_features_test['gps_height'] = df_features_test['gps_height'].apply(lambda x: (x-mean_gps_height)/std_gps_height)\n",
        "\n",
        "df_test['construction_year'] = df_test['construction_year'].apply(lambda x: construction_year_mean if x==0 else x)"
      ],
      "execution_count": 41,
      "outputs": []
    },
    {
      "cell_type": "code",
      "metadata": {
        "id": "JyaBqeG-PZmD"
      },
      "source": [
        "df_features_test['Age_at_year_recorded'] = pd.to_datetime(df_test['date_recorded']).dt.year-df_test['construction_year']"
      ],
      "execution_count": 42,
      "outputs": []
    },
    {
      "cell_type": "code",
      "metadata": {
        "id": "cbRNMLNAybey"
      },
      "source": [
        "df_test = df_test.merge(\n",
        "    df_train[['region', 'avglongitude']].drop_duplicates(),\n",
        "    on='region',\n",
        "    how='left',\n",
        ")\n",
        "df_test['longitude'] = df_test['longitude'].replace(0,np.nan)\n",
        "df_test['longitude'] = df_test['longitude'].fillna(df_test['avglongitude'])\n",
        "\n",
        "df_features_test['longitude'] = df_test['longitude']\n",
        "\n",
        "df_test = df_test.merge(\n",
        "    df_train[['region', 'avglatitude']].drop_duplicates(),\n",
        "    on='region',\n",
        "    how='left',\n",
        ")\n",
        "df_test['latitude'] = df_test['latitude'].replace(0,np.nan)\n",
        "df_test['latitude'] = df_test['latitude'].fillna(df_test['avglatitude'])\n",
        "\n",
        "df_features_test['latitude'] = df_test['latitude']"
      ],
      "execution_count": 43,
      "outputs": []
    },
    {
      "cell_type": "code",
      "metadata": {
        "colab": {
          "base_uri": "https://localhost:8080/"
        },
        "id": "qMD4XQO5v-Oe",
        "outputId": "71d044d0-5c91-4b3e-8405-1218496b89cd"
      },
      "source": [
        "# df_features_test = df_features_test.join(pd.DataFrame(enc_1hot_basin.transform(df_test[['basin']]).toarray()).add_prefix(\"basin_\"))\n",
        "df_features_test['basin'] = enc_basin.transform(df_test['basin'].astype(str))\n",
        "\n",
        "df_test['permit'] = PP_impute_with_medianormode(df_test[['permit']])\n",
        "df_features_test = df_features_test.join(pd.DataFrame(enc_1hot_permit.transform(df_test[['permit']]).toarray()).add_prefix(\"permit_\"))\n",
        "\n",
        "# df_features_test = df_features_test.join(pd.DataFrame(enc_1hot_extraction_type.transform(df_test[['extraction_type']]).toarray()).add_prefix(\"extraction_type_\"))\n",
        "df_features_test['extraction_type_class'] = enc_extraction_type_class.transform(df_test['extraction_type_class'].fillna(df_test['extraction_type_class'].mode()))\n",
        "\n",
        "df_features_test['management'] = enc_management.transform(df_test['management'].fillna('unknown'))\n",
        "# df_features_test = df_features_test.join(pd.DataFrame(enc_1hot_management.transform(df_test[['management']]).toarray()).add_prefix(\"management_\"))\n",
        "\n",
        "df_features_test['management_group'] = enc_management_group.transform(df_test['management_group'].fillna('unknown'))\n",
        "\n",
        "df_features_test['quality_group'] = enc_quality_group.transform(df_test['quality_group'].fillna('unknown'))\n",
        "# df_features_test = df_features_test.join(pd.DataFrame(enc_1hot_quality_group.transform(df_test[['quality_group']]).toarray()).add_prefix(\"quality_group_\"))\n",
        "\n",
        "df_features_test = df_features_test.join(pd.DataFrame(enc_1hot_quantity.transform(df_test[['quantity']]).toarray()).add_prefix(\"quantity_\"))\n",
        "\n",
        "df_features_test = df_features_test.join(pd.DataFrame(enc_1hot_source.transform(df_test[['source']]).toarray()).add_prefix(\"source_\"))\n",
        "\n",
        "df_features_test = df_features_test.join(pd.DataFrame(enc_1hot_waterpoint_type_group.transform(df_test[['waterpoint_type_group']]).toarray()).add_prefix(\"waterpoint_type_group_\"))\n",
        "\n",
        "df_features_test = df_features_test.join(pd.DataFrame(enc_1hot_region_code.transform(df_test[['region_code']]).toarray()).add_prefix(\"region_code_\"))\n",
        "\n",
        "df_features_test['construction_year'] = enc_construction_year.transform(df_test['construction_year'])\n",
        "# df_features_test = df_features_test.join(pd.DataFrame(enc_1hot_construction_year.transform(df_test[['construction_year']]).toarray()).add_prefix(\"construction_year_\"))\n",
        "\n",
        "df_features_test['funder'] = enc_funder.transform(df_test['funder'].astype(str))\n",
        "\n",
        "df_features_test['installer'] = enc_installer.transform(df_test['installer'].astype(str))\n",
        "\n",
        "df_features_test['lga'] = enc_lga.transform(df_test['lga'].astype(str))\n",
        "\n",
        "df_test['public_meeting'] = PP_impute_with_medianormode(df_test[['public_meeting']])\n",
        "df_features_test['public_meeting'] = enc_public_meeting.transform(df_test['public_meeting'])\n",
        "\n",
        "df_features_test['payment'] = enc_payment.transform(df_test['payment'])\n",
        "\n",
        "df_features_test['source_class'] = enc_source_class.transform(df_test['source_class'])\n",
        "\n",
        "df_features_test['waterpoint_type_group'] = enc_waterpoint_type_group.transform(df_test['waterpoint_type_group'])"
      ],
      "execution_count": 44,
      "outputs": [
        {
          "output_type": "stream",
          "name": "stdout",
          "text": [
            "categorical_columns are ['permit']\n",
            "Categorical column is 'permit' and its mode is 'True'\n",
            "categorical_columns are ['public_meeting']\n",
            "Categorical column is 'public_meeting' and its mode is 'True'\n"
          ]
        }
      ]
    },
    {
      "cell_type": "code",
      "metadata": {
        "colab": {
          "base_uri": "https://localhost:8080/"
        },
        "id": "BfRlY4XVXrSW",
        "outputId": "4561e765-8e99-414f-cd94-66a16797f2c3"
      },
      "source": [
        "X_test_sub = df_features_test.copy()\n",
        "X_test_sub.pop('id')"
      ],
      "execution_count": 45,
      "outputs": [
        {
          "output_type": "execute_result",
          "data": {
            "text/plain": [
              "0        50785\n",
              "1        51630\n",
              "2        17168\n",
              "3        45559\n",
              "4        49871\n",
              "         ...  \n",
              "14845    39307\n",
              "14846    18990\n",
              "14847    28749\n",
              "14848    33492\n",
              "14849    68707\n",
              "Name: id, Length: 14850, dtype: int64"
            ]
          },
          "metadata": {},
          "execution_count": 45
        }
      ]
    },
    {
      "cell_type": "code",
      "metadata": {
        "colab": {
          "base_uri": "https://localhost:8080/",
          "height": 224
        },
        "id": "YUV6CEf0X5Vu",
        "outputId": "4151b1ee-0063-4d18-d7a9-37fe9fdbf8e1"
      },
      "source": [
        "X_test_sub.head()"
      ],
      "execution_count": 46,
      "outputs": [
        {
          "output_type": "execute_result",
          "data": {
            "text/html": [
              "<div>\n",
              "<style scoped>\n",
              "    .dataframe tbody tr th:only-of-type {\n",
              "        vertical-align: middle;\n",
              "    }\n",
              "\n",
              "    .dataframe tbody tr th {\n",
              "        vertical-align: top;\n",
              "    }\n",
              "\n",
              "    .dataframe thead th {\n",
              "        text-align: right;\n",
              "    }\n",
              "</style>\n",
              "<table border=\"1\" class=\"dataframe\">\n",
              "  <thead>\n",
              "    <tr style=\"text-align: right;\">\n",
              "      <th></th>\n",
              "      <th>amount_tsh</th>\n",
              "      <th>population</th>\n",
              "      <th>gps_height</th>\n",
              "      <th>latitude</th>\n",
              "      <th>longitude</th>\n",
              "      <th>Age_at_year_recorded</th>\n",
              "      <th>basin</th>\n",
              "      <th>permit_0</th>\n",
              "      <th>permit_1</th>\n",
              "      <th>extraction_type_class</th>\n",
              "      <th>management</th>\n",
              "      <th>management_group</th>\n",
              "      <th>quality_group</th>\n",
              "      <th>quantity_0</th>\n",
              "      <th>quantity_1</th>\n",
              "      <th>quantity_2</th>\n",
              "      <th>quantity_3</th>\n",
              "      <th>quantity_4</th>\n",
              "      <th>source_0</th>\n",
              "      <th>source_1</th>\n",
              "      <th>source_2</th>\n",
              "      <th>source_3</th>\n",
              "      <th>source_4</th>\n",
              "      <th>source_5</th>\n",
              "      <th>source_6</th>\n",
              "      <th>source_7</th>\n",
              "      <th>source_8</th>\n",
              "      <th>source_9</th>\n",
              "      <th>waterpoint_type_group_0</th>\n",
              "      <th>waterpoint_type_group_1</th>\n",
              "      <th>waterpoint_type_group_2</th>\n",
              "      <th>waterpoint_type_group_3</th>\n",
              "      <th>waterpoint_type_group_4</th>\n",
              "      <th>waterpoint_type_group_5</th>\n",
              "      <th>region_code_0</th>\n",
              "      <th>region_code_1</th>\n",
              "      <th>region_code_2</th>\n",
              "      <th>region_code_3</th>\n",
              "      <th>region_code_4</th>\n",
              "      <th>region_code_5</th>\n",
              "      <th>region_code_6</th>\n",
              "      <th>region_code_7</th>\n",
              "      <th>region_code_8</th>\n",
              "      <th>region_code_9</th>\n",
              "      <th>region_code_10</th>\n",
              "      <th>region_code_11</th>\n",
              "      <th>region_code_12</th>\n",
              "      <th>region_code_13</th>\n",
              "      <th>region_code_14</th>\n",
              "      <th>region_code_15</th>\n",
              "      <th>region_code_16</th>\n",
              "      <th>region_code_17</th>\n",
              "      <th>region_code_18</th>\n",
              "      <th>region_code_19</th>\n",
              "      <th>region_code_20</th>\n",
              "      <th>region_code_21</th>\n",
              "      <th>region_code_22</th>\n",
              "      <th>region_code_23</th>\n",
              "      <th>region_code_24</th>\n",
              "      <th>region_code_25</th>\n",
              "      <th>region_code_26</th>\n",
              "      <th>construction_year</th>\n",
              "      <th>funder</th>\n",
              "      <th>installer</th>\n",
              "      <th>lga</th>\n",
              "      <th>public_meeting</th>\n",
              "      <th>payment</th>\n",
              "      <th>source_class</th>\n",
              "      <th>waterpoint_type_group</th>\n",
              "    </tr>\n",
              "  </thead>\n",
              "  <tbody>\n",
              "    <tr>\n",
              "      <th>0</th>\n",
              "      <td>-0.304223</td>\n",
              "      <td>1.726053</td>\n",
              "      <td>1.916217</td>\n",
              "      <td>-4.059696</td>\n",
              "      <td>35.290799</td>\n",
              "      <td>1</td>\n",
              "      <td>0</td>\n",
              "      <td>0.0</td>\n",
              "      <td>1.0</td>\n",
              "      <td>3</td>\n",
              "      <td>3</td>\n",
              "      <td>2</td>\n",
              "      <td>2</td>\n",
              "      <td>0.0</td>\n",
              "      <td>0.0</td>\n",
              "      <td>0.0</td>\n",
              "      <td>1.0</td>\n",
              "      <td>0.0</td>\n",
              "      <td>0.0</td>\n",
              "      <td>0.0</td>\n",
              "      <td>0.0</td>\n",
              "      <td>0.0</td>\n",
              "      <td>0.0</td>\n",
              "      <td>1.0</td>\n",
              "      <td>0.0</td>\n",
              "      <td>0.0</td>\n",
              "      <td>0.0</td>\n",
              "      <td>0.0</td>\n",
              "      <td>0.0</td>\n",
              "      <td>0.0</td>\n",
              "      <td>0.0</td>\n",
              "      <td>0.0</td>\n",
              "      <td>0.0</td>\n",
              "      <td>1.0</td>\n",
              "      <td>0.0</td>\n",
              "      <td>0.0</td>\n",
              "      <td>0.0</td>\n",
              "      <td>0.0</td>\n",
              "      <td>0.0</td>\n",
              "      <td>0.0</td>\n",
              "      <td>0.0</td>\n",
              "      <td>0.0</td>\n",
              "      <td>0.0</td>\n",
              "      <td>0.0</td>\n",
              "      <td>0.0</td>\n",
              "      <td>0.0</td>\n",
              "      <td>0.0</td>\n",
              "      <td>0.0</td>\n",
              "      <td>0.0</td>\n",
              "      <td>0.0</td>\n",
              "      <td>0.0</td>\n",
              "      <td>0.0</td>\n",
              "      <td>0.0</td>\n",
              "      <td>0.0</td>\n",
              "      <td>1.0</td>\n",
              "      <td>0.0</td>\n",
              "      <td>0.0</td>\n",
              "      <td>0.0</td>\n",
              "      <td>0.0</td>\n",
              "      <td>0.0</td>\n",
              "      <td>0.0</td>\n",
              "      <td>52</td>\n",
              "      <td>345</td>\n",
              "      <td>426</td>\n",
              "      <td>63</td>\n",
              "      <td>1</td>\n",
              "      <td>0</td>\n",
              "      <td>1</td>\n",
              "      <td>5</td>\n",
              "    </tr>\n",
              "    <tr>\n",
              "      <th>1</th>\n",
              "      <td>-0.304223</td>\n",
              "      <td>1.568725</td>\n",
              "      <td>1.299706</td>\n",
              "      <td>-3.309214</td>\n",
              "      <td>36.656709</td>\n",
              "      <td>13</td>\n",
              "      <td>5</td>\n",
              "      <td>0.0</td>\n",
              "      <td>1.0</td>\n",
              "      <td>0</td>\n",
              "      <td>7</td>\n",
              "      <td>4</td>\n",
              "      <td>2</td>\n",
              "      <td>0.0</td>\n",
              "      <td>0.0</td>\n",
              "      <td>1.0</td>\n",
              "      <td>0.0</td>\n",
              "      <td>0.0</td>\n",
              "      <td>0.0</td>\n",
              "      <td>0.0</td>\n",
              "      <td>0.0</td>\n",
              "      <td>0.0</td>\n",
              "      <td>0.0</td>\n",
              "      <td>0.0</td>\n",
              "      <td>0.0</td>\n",
              "      <td>0.0</td>\n",
              "      <td>1.0</td>\n",
              "      <td>0.0</td>\n",
              "      <td>0.0</td>\n",
              "      <td>1.0</td>\n",
              "      <td>0.0</td>\n",
              "      <td>0.0</td>\n",
              "      <td>0.0</td>\n",
              "      <td>0.0</td>\n",
              "      <td>0.0</td>\n",
              "      <td>1.0</td>\n",
              "      <td>0.0</td>\n",
              "      <td>0.0</td>\n",
              "      <td>0.0</td>\n",
              "      <td>0.0</td>\n",
              "      <td>0.0</td>\n",
              "      <td>0.0</td>\n",
              "      <td>0.0</td>\n",
              "      <td>0.0</td>\n",
              "      <td>0.0</td>\n",
              "      <td>0.0</td>\n",
              "      <td>0.0</td>\n",
              "      <td>0.0</td>\n",
              "      <td>0.0</td>\n",
              "      <td>0.0</td>\n",
              "      <td>0.0</td>\n",
              "      <td>0.0</td>\n",
              "      <td>0.0</td>\n",
              "      <td>0.0</td>\n",
              "      <td>0.0</td>\n",
              "      <td>0.0</td>\n",
              "      <td>0.0</td>\n",
              "      <td>0.0</td>\n",
              "      <td>0.0</td>\n",
              "      <td>0.0</td>\n",
              "      <td>0.0</td>\n",
              "      <td>40</td>\n",
              "      <td>507</td>\n",
              "      <td>442</td>\n",
              "      <td>0</td>\n",
              "      <td>1</td>\n",
              "      <td>0</td>\n",
              "      <td>0</td>\n",
              "      <td>1</td>\n",
              "    </tr>\n",
              "    <tr>\n",
              "      <th>2</th>\n",
              "      <td>-0.304223</td>\n",
              "      <td>3.067089</td>\n",
              "      <td>1.296818</td>\n",
              "      <td>-5.004344</td>\n",
              "      <td>34.767863</td>\n",
              "      <td>3</td>\n",
              "      <td>0</td>\n",
              "      <td>0.0</td>\n",
              "      <td>1.0</td>\n",
              "      <td>3</td>\n",
              "      <td>7</td>\n",
              "      <td>4</td>\n",
              "      <td>2</td>\n",
              "      <td>0.0</td>\n",
              "      <td>0.0</td>\n",
              "      <td>1.0</td>\n",
              "      <td>0.0</td>\n",
              "      <td>0.0</td>\n",
              "      <td>0.0</td>\n",
              "      <td>0.0</td>\n",
              "      <td>0.0</td>\n",
              "      <td>0.0</td>\n",
              "      <td>0.0</td>\n",
              "      <td>1.0</td>\n",
              "      <td>0.0</td>\n",
              "      <td>0.0</td>\n",
              "      <td>0.0</td>\n",
              "      <td>0.0</td>\n",
              "      <td>0.0</td>\n",
              "      <td>0.0</td>\n",
              "      <td>0.0</td>\n",
              "      <td>0.0</td>\n",
              "      <td>0.0</td>\n",
              "      <td>1.0</td>\n",
              "      <td>0.0</td>\n",
              "      <td>0.0</td>\n",
              "      <td>0.0</td>\n",
              "      <td>0.0</td>\n",
              "      <td>0.0</td>\n",
              "      <td>0.0</td>\n",
              "      <td>0.0</td>\n",
              "      <td>0.0</td>\n",
              "      <td>0.0</td>\n",
              "      <td>0.0</td>\n",
              "      <td>0.0</td>\n",
              "      <td>0.0</td>\n",
              "      <td>1.0</td>\n",
              "      <td>0.0</td>\n",
              "      <td>0.0</td>\n",
              "      <td>0.0</td>\n",
              "      <td>0.0</td>\n",
              "      <td>0.0</td>\n",
              "      <td>0.0</td>\n",
              "      <td>0.0</td>\n",
              "      <td>0.0</td>\n",
              "      <td>0.0</td>\n",
              "      <td>0.0</td>\n",
              "      <td>0.0</td>\n",
              "      <td>0.0</td>\n",
              "      <td>0.0</td>\n",
              "      <td>0.0</td>\n",
              "      <td>50</td>\n",
              "      <td>2140</td>\n",
              "      <td>2372</td>\n",
              "      <td>109</td>\n",
              "      <td>1</td>\n",
              "      <td>0</td>\n",
              "      <td>1</td>\n",
              "      <td>5</td>\n",
              "    </tr>\n",
              "    <tr>\n",
              "      <th>3</th>\n",
              "      <td>-0.304223</td>\n",
              "      <td>1.194134</td>\n",
              "      <td>-0.580148</td>\n",
              "      <td>-9.418672</td>\n",
              "      <td>38.058046</td>\n",
              "      <td>26</td>\n",
              "      <td>7</td>\n",
              "      <td>0.0</td>\n",
              "      <td>1.0</td>\n",
              "      <td>3</td>\n",
              "      <td>7</td>\n",
              "      <td>4</td>\n",
              "      <td>2</td>\n",
              "      <td>1.0</td>\n",
              "      <td>0.0</td>\n",
              "      <td>0.0</td>\n",
              "      <td>0.0</td>\n",
              "      <td>0.0</td>\n",
              "      <td>0.0</td>\n",
              "      <td>0.0</td>\n",
              "      <td>0.0</td>\n",
              "      <td>0.0</td>\n",
              "      <td>0.0</td>\n",
              "      <td>0.0</td>\n",
              "      <td>0.0</td>\n",
              "      <td>1.0</td>\n",
              "      <td>0.0</td>\n",
              "      <td>0.0</td>\n",
              "      <td>0.0</td>\n",
              "      <td>0.0</td>\n",
              "      <td>0.0</td>\n",
              "      <td>0.0</td>\n",
              "      <td>0.0</td>\n",
              "      <td>1.0</td>\n",
              "      <td>0.0</td>\n",
              "      <td>0.0</td>\n",
              "      <td>0.0</td>\n",
              "      <td>0.0</td>\n",
              "      <td>0.0</td>\n",
              "      <td>0.0</td>\n",
              "      <td>0.0</td>\n",
              "      <td>0.0</td>\n",
              "      <td>0.0</td>\n",
              "      <td>0.0</td>\n",
              "      <td>0.0</td>\n",
              "      <td>0.0</td>\n",
              "      <td>0.0</td>\n",
              "      <td>0.0</td>\n",
              "      <td>0.0</td>\n",
              "      <td>0.0</td>\n",
              "      <td>0.0</td>\n",
              "      <td>0.0</td>\n",
              "      <td>0.0</td>\n",
              "      <td>0.0</td>\n",
              "      <td>0.0</td>\n",
              "      <td>0.0</td>\n",
              "      <td>0.0</td>\n",
              "      <td>0.0</td>\n",
              "      <td>1.0</td>\n",
              "      <td>0.0</td>\n",
              "      <td>0.0</td>\n",
              "      <td>27</td>\n",
              "      <td>443</td>\n",
              "      <td>545</td>\n",
              "      <td>49</td>\n",
              "      <td>1</td>\n",
              "      <td>6</td>\n",
              "      <td>0</td>\n",
              "      <td>5</td>\n",
              "    </tr>\n",
              "    <tr>\n",
              "      <th>4</th>\n",
              "      <td>45.050949</td>\n",
              "      <td>-0.229311</td>\n",
              "      <td>0.853565</td>\n",
              "      <td>-10.950412</td>\n",
              "      <td>35.006123</td>\n",
              "      <td>13</td>\n",
              "      <td>7</td>\n",
              "      <td>0.0</td>\n",
              "      <td>1.0</td>\n",
              "      <td>0</td>\n",
              "      <td>9</td>\n",
              "      <td>4</td>\n",
              "      <td>2</td>\n",
              "      <td>0.0</td>\n",
              "      <td>1.0</td>\n",
              "      <td>0.0</td>\n",
              "      <td>0.0</td>\n",
              "      <td>0.0</td>\n",
              "      <td>0.0</td>\n",
              "      <td>0.0</td>\n",
              "      <td>0.0</td>\n",
              "      <td>0.0</td>\n",
              "      <td>0.0</td>\n",
              "      <td>0.0</td>\n",
              "      <td>0.0</td>\n",
              "      <td>0.0</td>\n",
              "      <td>1.0</td>\n",
              "      <td>0.0</td>\n",
              "      <td>0.0</td>\n",
              "      <td>1.0</td>\n",
              "      <td>0.0</td>\n",
              "      <td>0.0</td>\n",
              "      <td>0.0</td>\n",
              "      <td>0.0</td>\n",
              "      <td>0.0</td>\n",
              "      <td>0.0</td>\n",
              "      <td>0.0</td>\n",
              "      <td>0.0</td>\n",
              "      <td>0.0</td>\n",
              "      <td>0.0</td>\n",
              "      <td>0.0</td>\n",
              "      <td>0.0</td>\n",
              "      <td>0.0</td>\n",
              "      <td>1.0</td>\n",
              "      <td>0.0</td>\n",
              "      <td>0.0</td>\n",
              "      <td>0.0</td>\n",
              "      <td>0.0</td>\n",
              "      <td>0.0</td>\n",
              "      <td>0.0</td>\n",
              "      <td>0.0</td>\n",
              "      <td>0.0</td>\n",
              "      <td>0.0</td>\n",
              "      <td>0.0</td>\n",
              "      <td>0.0</td>\n",
              "      <td>0.0</td>\n",
              "      <td>0.0</td>\n",
              "      <td>0.0</td>\n",
              "      <td>0.0</td>\n",
              "      <td>0.0</td>\n",
              "      <td>0.0</td>\n",
              "      <td>40</td>\n",
              "      <td>150</td>\n",
              "      <td>164</td>\n",
              "      <td>61</td>\n",
              "      <td>1</td>\n",
              "      <td>3</td>\n",
              "      <td>0</td>\n",
              "      <td>1</td>\n",
              "    </tr>\n",
              "  </tbody>\n",
              "</table>\n",
              "</div>"
            ],
            "text/plain": [
              "   amount_tsh  population  ...  source_class  waterpoint_type_group\n",
              "0   -0.304223    1.726053  ...             1                      5\n",
              "1   -0.304223    1.568725  ...             0                      1\n",
              "2   -0.304223    3.067089  ...             1                      5\n",
              "3   -0.304223    1.194134  ...             0                      5\n",
              "4   45.050949   -0.229311  ...             0                      1\n",
              "\n",
              "[5 rows x 69 columns]"
            ]
          },
          "metadata": {},
          "execution_count": 46
        }
      ]
    },
    {
      "cell_type": "markdown",
      "metadata": {
        "id": "dGKe88SXK88w"
      },
      "source": [
        "#### Predicting and Write to Output File"
      ]
    },
    {
      "cell_type": "code",
      "metadata": {
        "id": "XVMHh9lcYHKE"
      },
      "source": [
        "Y_test_sub_predict = model.predict(X_test_sub)\n",
        "df_test[\"status_group\"] = Y_test_sub_predict"
      ],
      "execution_count": 47,
      "outputs": []
    },
    {
      "cell_type": "code",
      "metadata": {
        "id": "M-I3I-B6bjh2"
      },
      "source": [
        "df_test[['id', 'status_group']].to_csv('out.csv',index = False)"
      ],
      "execution_count": 48,
      "outputs": []
    }
  ]
}